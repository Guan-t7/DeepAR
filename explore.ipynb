{
 "metadata": {
  "language_info": {
   "codemirror_mode": {
    "name": "ipython",
    "version": 3
   },
   "file_extension": ".py",
   "mimetype": "text/x-python",
   "name": "python",
   "nbconvert_exporter": "python",
   "pygments_lexer": "ipython3",
   "version": "3.6.6"
  },
  "orig_nbformat": 4,
  "kernelspec": {
   "name": "python3",
   "display_name": "Python 3.6.6 64-bit"
  },
  "interpreter": {
   "hash": "2e5c6628eef985e7fd2fa2aad22c988c5b8aa1d2648cf9c51c543a2a2637c546"
  }
 },
 "nbformat": 4,
 "nbformat_minor": 2,
 "cells": [
  {
   "cell_type": "code",
   "execution_count": 2,
   "source": [
    "import numpy as np\r\n",
    "import pandas as pd\r\n",
    "from scipy import stats\r\n",
    "\r\n",
    "# load original data\r\n",
    "name = 'LD2011_2014.txt'\r\n",
    "save_name = 'elect'\r\n",
    "save_path = os.path.join('data', save_name)\r\n",
    "csv_path = os.path.join(save_path, name)\r\n",
    "data_frame = pd.read_csv(csv_path, sep=\";\", index_col=0, parse_dates=True, decimal=',')"
   ],
   "outputs": [],
   "metadata": {}
  },
  {
   "cell_type": "code",
   "execution_count": 3,
   "source": [
    "def gen_time_covariates(tmIdxes: pd.DatetimeIndex, ):\r\n",
    "    # feat: absAge, mo, d, wk, wkd, hrm\r\n",
    "    covariates = np.stack(\r\n",
    "        [(tmIdxes.year-2011)*12 + tmIdxes.dayofyear + tmIdxes.hour/24, \r\n",
    "        tmIdxes.month, tmIdxes.days_in_month, tmIdxes.dayofweek, \r\n",
    "        tmIdxes.hour + tmIdxes.minute/60], axis=-1) \r\n",
    "    # standardize all covariates \r\n",
    "    return stats.zscore(covariates, axis=0)"
   ],
   "outputs": [],
   "metadata": {}
  },
  {
   "cell_type": "code",
   "execution_count": 9,
   "source": [
    "# ut time window\r\n",
    "train_start = '2013-01-01 00:00:00'\r\n",
    "train_end = '2014-08-31 23:45:00'\r\n",
    "# include prev 7d as cond\r\n",
    "test_start = '2014-08-25 00:00:00'  \r\n",
    "test_end = '2014-09-07 23:45:00'\r\n"
   ],
   "outputs": [],
   "metadata": {}
  },
  {
   "cell_type": "code",
   "execution_count": 18,
   "source": [
    "# ckp1 uses clnt300\r\n",
    "df = data_frame.loc[train_start: test_end].iloc[:, 300]\r\n",
    "# same prep before partition\r\n",
    "x = gen_time_covariates(df.index)\r\n"
   ],
   "outputs": [],
   "metadata": {}
  },
  {
   "cell_type": "code",
   "execution_count": 19,
   "source": [
    "train_z = df.loc[train_start: train_end]\r\n",
    "test_z = df.loc[test_start: test_end]\r\n",
    "train_x = x[df.index.get_loc(train_start): df.index.get_loc(train_end)+1]\r\n",
    "test_x = x[df.index.get_loc(test_start): df.index.get_loc(test_end)+1]\r\n",
    "np.save(f\"data/train_z.npy\", train_z)\r\n",
    "np.save(f\"data/test_z.npy\", test_z)\r\n",
    "np.save(f\"data/train_x.npy\", train_x)\r\n",
    "np.save(f\"data/test_x.npy\", test_x)"
   ],
   "outputs": [],
   "metadata": {}
  },
  {
   "cell_type": "code",
   "execution_count": 1,
   "source": [
    "# ---------- visualization of prediction ----------\r\n",
    "import torch\r\n",
    "from MyNet import MyNet, get_data, get_model, DEVICE, COND_STEPS, PRED_STEPS\r\n",
    "\r\n",
    "BATCH_SIZE = 128\r\n",
    "MODEL_PATH = f\"MyNet_11_18-15.pt\"\r\n",
    "\r\n",
    "train_dl, test_dl = get_data(BATCH_SIZE)\r\n",
    "model, opt, loss_fn = get_model()\r\n",
    "model = torch.load(MODEL_PATH)\r\n",
    "\r\n",
    "model.eval()\r\n",
    "with torch.no_grad():\r\n",
    "    for data, v, label in test_dl:\r\n",
    "        data, v, label = data.to(DEVICE), v.to(DEVICE), label.to(DEVICE)\r\n",
    "        # model output\r\n",
    "        sigma_o = torch.zeros(label.size()).to(DEVICE)\r\n",
    "        # scale input z\r\n",
    "        data[..., 0] /= v\r\n",
    "        for t in range(COND_STEPS, COND_STEPS+PRED_STEPS):\r\n",
    "            if t == COND_STEPS:\r\n",
    "                # feed nn data in prev 7d\r\n",
    "                mu, sigma, hx = model(data[:, :COND_STEPS])\r\n",
    "                mu = mu[:, -1]\r\n",
    "                sigma = sigma[:, -1]\r\n",
    "            else:\r\n",
    "                # keepdims\r\n",
    "                mu, sigma, hx = model(data[:, t:t+1], hx)\r\n",
    "            data[:, t, 0] = mu\r\n",
    "            sigma_o[:, t-COND_STEPS] = sigma\r\n",
    "        # scale output\r\n",
    "        mu_o = data[:, -PRED_STEPS:, 0] * v\r\n",
    "        sigma_o *= v\r\n",
    "        break\r\n"
   ],
   "outputs": [],
   "metadata": {}
  },
  {
   "cell_type": "code",
   "execution_count": 2,
   "source": [
    "D = 0\r\n",
    "label_ = label[D].cpu()\r\n",
    "mu_ = mu_o[D].cpu()\r\n",
    "sigma_ = sigma_o[D].cpu()\r\n",
    "\r\n",
    "distrib = torch.distributions.normal.Normal(mu_, sigma_)\r\n",
    "quantile = distrib.icdf(torch.tensor([[0.05], [0.95]]))\r\n"
   ],
   "outputs": [],
   "metadata": {}
  },
  {
   "cell_type": "code",
   "execution_count": 4,
   "source": [
    "import numpy as np\r\n",
    "import pandas as pd\r\n",
    "import seaborn as sns\r\n",
    "sns.set_theme(style=\"darkgrid\")\r\n",
    "\r\n",
    "ax = sns.lineplot(data=pd.DataFrame({\"truth\": label_.numpy(), \"predicted\": mu_.numpy()}))\r\n",
    "ax.fill_between(\r\n",
    "    np.arange(0, len(quantile[0])), quantile[0].numpy(), quantile[1].numpy(), \r\n",
    "    alpha=0.3, color=sns.color_palette()[1])\r\n"
   ],
   "outputs": [],
   "metadata": {}
  }
 ]
}